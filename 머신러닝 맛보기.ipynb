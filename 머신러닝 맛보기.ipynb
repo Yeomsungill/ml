{
 "cells": [
  {
   "cell_type": "code",
   "execution_count": null,
   "id": "9de7dec5",
   "metadata": {
    "ExecuteTime": {
     "end_time": "2022-09-29T00:45:28.295866Z",
     "start_time": "2022-09-29T00:45:23.138596Z"
    }
   },
   "outputs": [],
   "source": [
    " from sklearn.datasets import load_iris\n",
    "iris = load_iris()"
   ]
  },
  {
   "cell_type": "code",
   "execution_count": null,
   "id": "55da6128",
   "metadata": {
    "ExecuteTime": {
     "end_time": "2022-09-29T00:48:32.700484Z",
     "start_time": "2022-09-29T00:48:32.685154Z"
    }
   },
   "outputs": [],
   "source": [
    "iris.keys()"
   ]
  },
  {
   "cell_type": "code",
   "execution_count": null,
   "id": "02993701",
   "metadata": {
    "ExecuteTime": {
     "end_time": "2022-09-29T00:48:53.108881Z",
     "start_time": "2022-09-29T00:48:52.083006Z"
    }
   },
   "outputs": [],
   "source": [
    "len(data.target)"
   ]
  },
  {
   "cell_type": "code",
   "execution_count": 7,
   "id": "47e2068f",
   "metadata": {
    "ExecuteTime": {
     "end_time": "2022-09-29T01:04:15.589206Z",
     "start_time": "2022-09-29T01:04:15.569061Z"
    }
   },
   "outputs": [
    {
     "data": {
      "text/plain": [
       "numpy.ndarray"
      ]
     },
     "execution_count": 7,
     "metadata": {},
     "output_type": "execute_result"
    }
   ],
   "source": [
    "type(iris.target)"
   ]
  },
  {
   "cell_type": "code",
   "execution_count": null,
   "id": "205e25dd",
   "metadata": {
    "ExecuteTime": {
     "end_time": "2022-09-28T06:48:40.578710Z",
     "start_time": "2022-09-28T06:48:40.558724Z"
    }
   },
   "outputs": [],
   "source": [
    "data.target_names"
   ]
  },
  {
   "cell_type": "code",
   "execution_count": null,
   "id": "cba09b8b",
   "metadata": {
    "ExecuteTime": {
     "end_time": "2022-09-28T06:51:32.011566Z",
     "start_time": "2022-09-28T06:51:29.459066Z"
    }
   },
   "outputs": [],
   "source": [
    "import pandas as pd\n",
    "\n",
    "df = pd.DataFrame(data.data, columns = data.feature_names)\n",
    "df"
   ]
  },
  {
   "cell_type": "code",
   "execution_count": null,
   "id": "52d358d8",
   "metadata": {
    "ExecuteTime": {
     "end_time": "2022-09-28T06:52:03.852844Z",
     "start_time": "2022-09-28T06:52:00.407129Z"
    }
   },
   "outputs": [],
   "source": [
    "df.desecribe()"
   ]
  },
  {
   "cell_type": "code",
   "execution_count": null,
   "id": "22ab02ba",
   "metadata": {
    "ExecuteTime": {
     "end_time": "2022-09-28T06:52:28.846038Z",
     "start_time": "2022-09-28T06:52:28.812093Z"
    }
   },
   "outputs": [],
   "source": [
    "df.info()"
   ]
  },
  {
   "cell_type": "code",
   "execution_count": null,
   "id": "c750b6eb",
   "metadata": {
    "ExecuteTime": {
     "end_time": "2022-09-28T07:01:20.620967Z",
     "start_time": "2022-09-28T07:01:20.604013Z"
    }
   },
   "outputs": [],
   "source": [
    "iris = load_iris()\n",
    "iris_data = iris.data"
   ]
  },
  {
   "cell_type": "code",
   "execution_count": null,
   "id": "e1fcd15d",
   "metadata": {
    "ExecuteTime": {
     "end_time": "2022-09-28T07:01:21.226346Z",
     "start_time": "2022-09-28T07:01:21.214379Z"
    }
   },
   "outputs": [],
   "source": [
    "#  iris data label 값\n",
    "iris_label = iris.target"
   ]
  },
  {
   "cell_type": "code",
   "execution_count": null,
   "id": "f9d2edf6",
   "metadata": {
    "ExecuteTime": {
     "end_time": "2022-09-28T07:12:55.311806Z",
     "start_time": "2022-09-28T07:12:55.291723Z"
    }
   },
   "outputs": [],
   "source": [
    "print(f'iris target값 : {iris_label}')\n",
    "print(f'iris target값 : {iris.target_names}')"
   ]
  },
  {
   "cell_type": "code",
   "execution_count": null,
   "id": "e19bf15d",
   "metadata": {
    "ExecuteTime": {
     "end_time": "2022-09-28T07:12:21.792923Z",
     "start_time": "2022-09-28T07:12:21.763971Z"
    }
   },
   "outputs": [],
   "source": [
    "iris_df = iris_df = pd.DataFrame(data=iris_data, columns=iris.feature_names)\n",
    "iris_df['label'] = iris.target\n",
    "iris_df.head(3)"
   ]
  },
  {
   "cell_type": "markdown",
   "id": "0360e8d6",
   "metadata": {},
   "source": [
    "#### sklearn.model_selection.train_test_split\n",
    "> sklearn.model_selection.train_test_split(*arrays, test_size=None, train_size=None, random_state=None, shuffle=True, stratify=None"
   ]
  },
  {
   "cell_type": "code",
   "execution_count": null,
   "id": "4dfe956b",
   "metadata": {
    "ExecuteTime": {
     "end_time": "2022-09-28T07:26:24.070015Z",
     "start_time": "2022-09-28T07:26:23.909858Z"
    }
   },
   "outputs": [],
   "source": [
    "from sklearn.model_selection import train_test_split"
   ]
  },
  {
   "cell_type": "code",
   "execution_count": null,
   "id": "160e538d",
   "metadata": {
    "ExecuteTime": {
     "end_time": "2022-09-28T07:32:24.489194Z",
     "start_time": "2022-09-28T07:32:24.468253Z"
    }
   },
   "outputs": [],
   "source": [
    "X_train, X_test, y_train, y_test = train_test_split(iris_data, iris_label,\n",
    "                                                   test_size = 0.2, random_state =11)"
   ]
  },
  {
   "cell_type": "code",
   "execution_count": null,
   "id": "103418b4",
   "metadata": {
    "ExecuteTime": {
     "end_time": "2022-09-28T07:34:52.192508Z",
     "start_time": "2022-09-28T07:34:52.159462Z"
    }
   },
   "outputs": [],
   "source": []
  },
  {
   "cell_type": "code",
   "execution_count": null,
   "id": "924157bd",
   "metadata": {
    "ExecuteTime": {
     "end_time": "2022-09-28T08:04:35.298980Z",
     "start_time": "2022-09-28T08:04:35.277525Z"
    }
   },
   "outputs": [],
   "source": [
    "X_1 = iris.data[0:120]\n",
    "y_1 = iris.data[0:120]"
   ]
  },
  {
   "cell_type": "code",
   "execution_count": null,
   "id": "f3d68081",
   "metadata": {
    "ExecuteTime": {
     "end_time": "2022-09-28T08:04:41.028902Z",
     "start_time": "2022-09-28T08:04:41.004921Z"
    }
   },
   "outputs": [],
   "source": [
    "y_1"
   ]
  },
  {
   "cell_type": "markdown",
   "id": "48ab8977",
   "metadata": {},
   "source": [
    "#### sklearn.tree.DecisionTreeClassifier\n",
    ">class sklearn.tree.DecisionTreeClassifier(*, criterion='gini', splitter='best', max_depth=None, min_samples_split=2, min_samples_leaf=1, min_weight_fraction_leaf=0.0, max_features=None, random_state=None, max_leaf_nodes=None, min_impurity_decrease=0.0, class_weight=None, ccp_alpha=0.0)"
   ]
  },
  {
   "cell_type": "code",
   "execution_count": null,
   "id": "eb869ffb",
   "metadata": {
    "ExecuteTime": {
     "end_time": "2022-09-28T08:21:59.149486Z",
     "start_time": "2022-09-28T08:21:58.757305Z"
    }
   },
   "outputs": [],
   "source": [
    "from sklearn.tree import DecisionTreeClassifier"
   ]
  },
  {
   "cell_type": "code",
   "execution_count": null,
   "id": "a9aa1a88",
   "metadata": {
    "ExecuteTime": {
     "end_time": "2022-09-28T08:25:59.921330Z",
     "start_time": "2022-09-28T08:25:59.906372Z"
    }
   },
   "outputs": [],
   "source": [
    "dt_clif = DecisionTreeClassifier(random_state =11)\n",
    "dt_clif.fit(X_train, y_train)"
   ]
  },
  {
   "cell_type": "code",
   "execution_count": null,
   "id": "e7f35372",
   "metadata": {
    "ExecuteTime": {
     "end_time": "2022-09-28T08:28:31.513580Z",
     "start_time": "2022-09-28T08:28:31.490102Z"
    }
   },
   "outputs": [],
   "source": [
    "dt_clif.feature_importances_"
   ]
  },
  {
   "cell_type": "code",
   "execution_count": null,
   "id": "0852002c",
   "metadata": {
    "ExecuteTime": {
     "end_time": "2022-09-28T08:39:23.804760Z",
     "start_time": "2022-09-28T08:39:23.795784Z"
    }
   },
   "outputs": [],
   "source": [
    "pred = dt_clif.predict(X_test)"
   ]
  },
  {
   "cell_type": "code",
   "execution_count": null,
   "id": "758b4317",
   "metadata": {
    "ExecuteTime": {
     "end_time": "2022-09-28T08:37:59.413029Z",
     "start_time": "2022-09-28T08:37:59.401023Z"
    }
   },
   "outputs": [],
   "source": [
    "from sklearn.metrics import accuracy_score"
   ]
  },
  {
   "cell_type": "code",
   "execution_count": null,
   "id": "a050a2c6",
   "metadata": {
    "ExecuteTime": {
     "end_time": "2022-09-28T08:39:52.126791Z",
     "start_time": "2022-09-28T08:39:52.110832Z"
    }
   },
   "outputs": [],
   "source": [
    "accuracy_score(pred, y_test)"
   ]
  },
  {
   "cell_type": "code",
   "execution_count": null,
   "id": "e9932ebb",
   "metadata": {},
   "outputs": [],
   "source": []
  }
 ],
 "metadata": {
  "kernelspec": {
   "display_name": "Python 3 (ipykernel)",
   "language": "python",
   "name": "python3"
  },
  "language_info": {
   "codemirror_mode": {
    "name": "ipython",
    "version": 3
   },
   "file_extension": ".py",
   "mimetype": "text/x-python",
   "name": "python",
   "nbconvert_exporter": "python",
   "pygments_lexer": "ipython3",
   "version": "3.10.6"
  },
  "toc": {
   "base_numbering": 1,
   "nav_menu": {},
   "number_sections": true,
   "sideBar": true,
   "skip_h1_title": false,
   "title_cell": "Table of Contents",
   "title_sidebar": "Contents",
   "toc_cell": false,
   "toc_position": {
    "height": "calc(100% - 180px)",
    "left": "10px",
    "top": "150px",
    "width": "279.273px"
   },
   "toc_section_display": true,
   "toc_window_display": false
  },
  "varInspector": {
   "cols": {
    "lenName": 16,
    "lenType": 16,
    "lenVar": 40
   },
   "kernels_config": {
    "python": {
     "delete_cmd_postfix": "",
     "delete_cmd_prefix": "del ",
     "library": "var_list.py",
     "varRefreshCmd": "print(var_dic_list())"
    },
    "r": {
     "delete_cmd_postfix": ") ",
     "delete_cmd_prefix": "rm(",
     "library": "var_list.r",
     "varRefreshCmd": "cat(var_dic_list()) "
    }
   },
   "types_to_exclude": [
    "module",
    "function",
    "builtin_function_or_method",
    "instance",
    "_Feature"
   ],
   "window_display": false
  }
 },
 "nbformat": 4,
 "nbformat_minor": 5
}
