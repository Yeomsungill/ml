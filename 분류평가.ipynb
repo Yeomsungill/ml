{
 "cells": [
  {
   "cell_type": "markdown",
   "metadata": {},
   "source": []
  },
  {
   "cell_type": "markdown",
   "metadata": {},
   "source": [
    "### sklearn.metrics.f1_score\n",
    "- sklearn.metrics.f1_score(y_true, y_pred, *, labels=None, pos_label=1, average='binary', sample_weight=None, zero_division='warn')"
   ]
  },
  {
   "cell_type": "markdown",
   "metadata": {},
   "source": [
    "### sklearn.metrics.accuracy_score\n",
    "- sklearn.metrics.accuracy_score(y_true, y_pred, *, normalize=True, sample_weight=None)"
   ]
  },
  {
   "cell_type": "markdown",
   "metadata": {},
   "source": [
    "### sklearn.metrics.precision_score\n",
    "- sklearn.metrics.precision_score(y_true, y_pred, *, labels=None, pos_label=1, average='binary', sample_weight=None, zero_division='warn')"
   ]
  },
  {
   "cell_type": "markdown",
   "metadata": {},
   "source": [
    "### sklearn.metrics.confusion_matrix\n",
    "- sklearn.metrics.confusion_matrix(y_true, y_pred, *, labels=None, sample_weight=None, normalize=None)"
   ]
  },
  {
   "cell_type": "code",
   "execution_count": 8,
   "metadata": {},
   "outputs": [],
   "source": [
    "from sklearn.metrics import accuracy_score, precision_score, recall_score, confusion_matrix, f1_score"
   ]
  },
  {
   "cell_type": "code",
   "execution_count": 44,
   "metadata": {},
   "outputs": [
    {
     "data": {
      "text/html": [
       "<div>\n",
       "<style scoped>\n",
       "    .dataframe tbody tr th:only-of-type {\n",
       "        vertical-align: middle;\n",
       "    }\n",
       "\n",
       "    .dataframe tbody tr th {\n",
       "        vertical-align: top;\n",
       "    }\n",
       "\n",
       "    .dataframe thead th {\n",
       "        text-align: right;\n",
       "    }\n",
       "</style>\n",
       "<table border=\"1\" class=\"dataframe\">\n",
       "  <thead>\n",
       "    <tr style=\"text-align: right;\">\n",
       "      <th></th>\n",
       "      <th>Pregnancies</th>\n",
       "      <th>Glucose</th>\n",
       "      <th>BloodPressure</th>\n",
       "      <th>SkinThickness</th>\n",
       "      <th>Insulin</th>\n",
       "      <th>BMI</th>\n",
       "      <th>DiabetesPedigreeFunction</th>\n",
       "      <th>Age</th>\n",
       "      <th>Outcome</th>\n",
       "    </tr>\n",
       "  </thead>\n",
       "  <tbody>\n",
       "    <tr>\n",
       "      <th>0</th>\n",
       "      <td>6</td>\n",
       "      <td>148</td>\n",
       "      <td>72</td>\n",
       "      <td>35</td>\n",
       "      <td>0</td>\n",
       "      <td>33.6</td>\n",
       "      <td>0.627</td>\n",
       "      <td>50</td>\n",
       "      <td>1</td>\n",
       "    </tr>\n",
       "    <tr>\n",
       "      <th>1</th>\n",
       "      <td>1</td>\n",
       "      <td>85</td>\n",
       "      <td>66</td>\n",
       "      <td>29</td>\n",
       "      <td>0</td>\n",
       "      <td>26.6</td>\n",
       "      <td>0.351</td>\n",
       "      <td>31</td>\n",
       "      <td>0</td>\n",
       "    </tr>\n",
       "  </tbody>\n",
       "</table>\n",
       "</div>"
      ],
      "text/plain": [
       "   Pregnancies  Glucose  BloodPressure  SkinThickness  Insulin   BMI  \\\n",
       "0            6      148             72             35        0  33.6   \n",
       "1            1       85             66             29        0  26.6   \n",
       "\n",
       "   DiabetesPedigreeFunction  Age  Outcome  \n",
       "0                     0.627   50        1  \n",
       "1                     0.351   31        0  "
      ]
     },
     "execution_count": 44,
     "metadata": {},
     "output_type": "execute_result"
    }
   ],
   "source": [
    "# titanic_train.csv 읽기\n",
    "import pandas as pd\n",
    "df_titanic = pd.read_csv('./Datasets/diabetes.csv')\n",
    "df_titanic.head(2)"
   ]
  },
  {
   "cell_type": "code",
   "execution_count": 10,
   "metadata": {},
   "outputs": [],
   "source": [
    "# loc를 활용하여 feature (Survived , Sex , Age ,Pclass) 와 label 만으로 이뤄진 데이타프레임\n",
    "df_titanic =df_titanic.loc[: , ['Survived' , 'Sex' , 'Age' ,'Pclass']]"
   ]
  },
  {
   "cell_type": "code",
   "execution_count": 11,
   "metadata": {},
   "outputs": [],
   "source": [
    "# feature를 X로 label를 y로 저장\n",
    "X = df_titanic.drop('Survived' , axis=1)\n",
    "y = df_titanic['Survived']"
   ]
  },
  {
   "cell_type": "code",
   "execution_count": 12,
   "metadata": {},
   "outputs": [],
   "source": [
    "from sklearn.preprocessing import LabelEncoder\n",
    "\n",
    "encoder = LabelEncoder()\n",
    "\n",
    "labels = encoder.fit_transform(X['Sex'])\n",
    "\n",
    "X['Sex'] = labels"
   ]
  },
  {
   "cell_type": "code",
   "execution_count": 13,
   "metadata": {},
   "outputs": [],
   "source": [
    "import numpy as np\n",
    "# MinMaxScaler를 이용해서 Age를 스케일링\n",
    "from sklearn.preprocessing import MinMaxScaler\n",
    "# MinMaxScaler 객체 생성\n",
    "scaler = MinMaxScaler()\n",
    "# MinMaxScaler로 데이터셋 변환, fit()과 transfom() 호출\n",
    "age = np.array(X['Age']).reshape(-1,1)\n",
    "scaler.fit(age)\n",
    "age = scaler.transform(age)\n",
    "X['Age'] = age"
   ]
  },
  {
   "cell_type": "code",
   "execution_count": 15,
   "metadata": {},
   "outputs": [
    {
     "name": "stdout",
     "output_type": "stream",
     "text": [
      "오차행렬\n",
      "[[101  17]\n",
      " [ 12  49]]\n",
      "정확도: 0.8380, 정밀도: 0.7424, 재현율: 0.8033, f1score: 0.7717\n"
     ]
    }
   ],
   "source": [
    "def get_clf_eval(y_test, pred) :\n",
    "    confusion = confusion_matrix(y_test, pred)\n",
    "    accuracy = accuracy_score(y_test, pred)\n",
    "    precision = precision_score(y_test, pred)\n",
    "    recall = recall_score(y_test, pred)\n",
    "    f1score = f1_score(y_test, pred)\n",
    "    print('오차행렬')\n",
    "    print(confusion)\n",
    "    print('정확도: {0:.4f}, 정밀도: {1:.4f}, 재현율: {2:.4f}, f1score: {3:.4f}'.format(accuracy, precision, recall, f1score))\n",
    "import numpy as np\n",
    "import pandas as pd\n",
    "from sklearn.model_selection import train_test_split\n",
    "from sklearn.linear_model import LogisticRegression\n",
    "df_titanic = pd.read_csv('./datasets/titanic_train.csv')\n",
    "df_titanic = df_titanic.loc[:,['Survived', 'Sex', 'Age', 'Pclass']]\n",
    "X = df_titanic.loc[:,['Sex', 'Age', 'Pclass']]\n",
    "y = df_titanic['Survived']\n",
    "X['Age'].fillna(method='ffill', inplace=True)\n",
    "from sklearn.preprocessing import LabelEncoder\n",
    "encoder = LabelEncoder()\n",
    "labels = encoder.fit_transform(X['Sex'])\n",
    "X['Sex'] = labels\n",
    "from sklearn.preprocessing import MinMaxScaler\n",
    "scaler = MinMaxScaler()\n",
    "scaler.fit(X[['Age']])\n",
    "age_scaled = scaler.transform(X[['Age']])\n",
    "X['Age']=age_scaled\n",
    "X_train, X_test, y_train, y_test = train_test_split(X, y, test_size=0.2, random_state=11)\n",
    "lr_clf = LogisticRegression()\n",
    "lr_clf.fit(X_train, y_train)\n",
    "pred = lr_clf.predict(X_test)\n",
    "get_clf_eval(y_test, pred)"
   ]
  },
  {
   "cell_type": "code",
   "execution_count": 17,
   "metadata": {},
   "outputs": [
    {
     "name": "stdout",
     "output_type": "stream",
     "text": [
      "pred_proba()결과 Shape :  (179, 2)\n",
      "pred_proba array에서 앞 3개만 샘플로 추출 \n",
      ":  [[0.42558527 0.57441473]\n",
      " [0.88833758 0.11166242]\n",
      " [0.88651722 0.11348278]]\n",
      "두개의 class 중에서 더 큰 확률을 클래스 값으로 예측 \n",
      " [[0.42558527 0.57441473 1.        ]\n",
      " [0.88833758 0.11166242 0.        ]\n",
      " [0.88651722 0.11348278 0.        ]]\n"
     ]
    }
   ],
   "source": [
    "pred_proba = lr_clf.predict_proba(X_test)\n",
    "pred = lr_clf.predict(X_test)\n",
    "print('pred_proba()결과 Shape :  {0}'.format(pred_proba.shape))\n",
    "print('pred_proba array에서 앞 3개만 샘플로 추출 \\n: ', pred_proba[:3])\n",
    "\n",
    "pred_proba_result = np.concatenate([pred_proba, pred.reshape(-1,1)], axis =1)\n",
    "print('두개의 class 중에서 더 큰 확률을 클래스 값으로 예측 \\n', pred_proba_result[:3])"
   ]
  },
  {
   "cell_type": "markdown",
   "metadata": {},
   "source": [
    "### sklearn.preprocessing.Binarizer\n",
    "- class sklearn.preprocessing.Binarizer(*, threshold=0.0, copy=True)"
   ]
  },
  {
   "cell_type": "code",
   "execution_count": 18,
   "metadata": {},
   "outputs": [
    {
     "name": "stdout",
     "output_type": "stream",
     "text": [
      "[[0. 0. 1.]\n",
      " [1. 0. 0.]\n",
      " [0. 0. 1.]]\n"
     ]
    }
   ],
   "source": [
    "from sklearn.preprocessing import Binarizer, binarize\n",
    "\n",
    "x = [[1,-1,2],\n",
    "     [2,0,0],\n",
    "     [0,1.1,1.2]]\n",
    "\n",
    "binarize = Binarizer(threshold=1.1)\n",
    "print(binarize.fit_transform(x))"
   ]
  },
  {
   "cell_type": "code",
   "execution_count": 19,
   "metadata": {},
   "outputs": [
    {
     "name": "stdout",
     "output_type": "stream",
     "text": [
      "오차행렬\n",
      "[[101  17]\n",
      " [ 12  49]]\n",
      "정확도: 0.8380, 정밀도: 0.7424, 재현율: 0.8033, f1score: 0.7717\n"
     ]
    }
   ],
   "source": [
    "custom_threshold = 0.5\n",
    "\n",
    "pred_proba_1 = pred_proba[:,1].reshape(-1,1)\n",
    "\n",
    "binarize = Binarizer(threshold=custom_threshold).fit(pred_proba_1)\n",
    "custom_predict = binarize.transform(pred_proba_1)\n",
    "\n",
    "get_clf_eval(y_test, custom_predict)"
   ]
  },
  {
   "cell_type": "code",
   "execution_count": 20,
   "metadata": {},
   "outputs": [
    {
     "name": "stdout",
     "output_type": "stream",
     "text": [
      "오차행렬\n",
      "[[94 24]\n",
      " [10 51]]\n",
      "정확도: 0.8101, 정밀도: 0.6800, 재현율: 0.8361, f1score: 0.7500\n"
     ]
    }
   ],
   "source": [
    "custom_threshold = 0.4\n",
    "\n",
    "pred_proba_1 = pred_proba[:,1].reshape(-1,1)\n",
    "\n",
    "binarize = Binarizer(threshold=custom_threshold).fit(pred_proba_1)\n",
    "custom_predict = binarize.transform(pred_proba_1)\n",
    "\n",
    "get_clf_eval(y_test, custom_predict)\n",
    "\n"
   ]
  },
  {
   "cell_type": "code",
   "execution_count": 21,
   "metadata": {},
   "outputs": [
    {
     "name": "stdout",
     "output_type": "stream",
     "text": [
      "임계값 :  0.4\n",
      "오차행렬\n",
      "[[94 24]\n",
      " [10 51]]\n",
      "정확도: 0.8101, 정밀도: 0.6800, 재현율: 0.8361, f1score: 0.7500\n",
      "임계값 :  0.45\n",
      "오차행렬\n",
      "[[97 21]\n",
      " [11 50]]\n",
      "정확도: 0.8212, 정밀도: 0.7042, 재현율: 0.8197, f1score: 0.7576\n",
      "임계값 :  0.5\n",
      "오차행렬\n",
      "[[101  17]\n",
      " [ 12  49]]\n",
      "정확도: 0.8380, 정밀도: 0.7424, 재현율: 0.8033, f1score: 0.7717\n",
      "임계값 :  0.55\n",
      "오차행렬\n",
      "[[107  11]\n",
      " [ 17  44]]\n",
      "정확도: 0.8436, 정밀도: 0.8000, 재현율: 0.7213, f1score: 0.7586\n",
      "임계값 :  0.6\n",
      "오차행렬\n",
      "[[111   7]\n",
      " [ 21  40]]\n",
      "정확도: 0.8436, 정밀도: 0.8511, 재현율: 0.6557, f1score: 0.7407\n"
     ]
    }
   ],
   "source": [
    "thresholds = [0.4,0.45,0.50,0.55,0.60]\n",
    "\n",
    "def get_eval_by_threshold(y_test, pred_proba_c1, thresholds):\n",
    "    for custom_threshold in thresholds:\n",
    "        binarize = Binarizer(threshold=custom_threshold).fit(pred_proba_c1)\n",
    "        custom_predict = binarize.transform(pred_proba_c1)\n",
    "        print('임계값 : ', custom_threshold)\n",
    "        get_clf_eval(y_test, custom_predict)\n",
    "\n",
    "get_eval_by_threshold(y_test,pred_proba[:,1].reshape(-1,1),thresholds)"
   ]
  },
  {
   "cell_type": "markdown",
   "metadata": {},
   "source": [
    "### sklearn.metrics.precision_recall_curve\n",
    "- sklearn.metrics.precision_recall_curve(y_true, probas_pred, *, pos_label=None, sample_weight=None)"
   ]
  },
  {
   "cell_type": "code",
   "execution_count": 22,
   "metadata": {},
   "outputs": [],
   "source": [
    "from sklearn.metrics import precision_recall_curve"
   ]
  },
  {
   "cell_type": "code",
   "execution_count": 25,
   "metadata": {},
   "outputs": [
    {
     "name": "stdout",
     "output_type": "stream",
     "text": [
      "반환된 분류 결정 임곘값 배열의 shape (124,)\n",
      "반환된 precisions 배열의 shape (125,)\n",
      "반환된 recalls 배열의 shape (125,)\n",
      "\n",
      "thresholds 5 samples: [0.06556004 0.07136752 0.0776467  0.07896181 0.08303016]\n",
      "precisions 5 samples: [0.34078212 0.34269663 0.34659091 0.35057471 0.35465116]\n",
      "recalls 5 samples: [1. 1. 1. 1. 1.]\n"
     ]
    }
   ],
   "source": [
    "#레이블 값이 1일때의 예츠그 확률울 추출\n",
    "pred_proba_class1 = lr_clf.predict_proba(X_test)[:,1]\n",
    "#실제값 데이터셋과 레이블값이 1일 떄의 예측 확률을 precision_recall_curve인자로 입력\n",
    "precisions, recalls, thresholds = precision_recall_curve(y_test, pred_proba_class1)\n",
    "print('반환된 분류 결정 임곘값 배열의 shape', thresholds.shape)\n",
    "print('반환된 precisions 배열의 shape', precisions.shape)\n",
    "print('반환된 recalls 배열의 shape', recalls.shape)\n",
    "print(\"\\nthresholds 5 samples:\", thresholds[:5])\n",
    "print(\"precisions 5 samples:\", precisions[:5])\n",
    "print(\"recalls 5 samples:\", recalls[:5])"
   ]
  },
  {
   "cell_type": "code",
   "execution_count": 27,
   "metadata": {},
   "outputs": [
    {
     "data": {
      "text/plain": [
       "(125,)"
      ]
     },
     "execution_count": 27,
     "metadata": {},
     "output_type": "execute_result"
    }
   ],
   "source": [
    "recalls.shape"
   ]
  },
  {
   "cell_type": "code",
   "execution_count": 29,
   "metadata": {},
   "outputs": [
    {
     "data": {
      "text/plain": [
       "(125,)"
      ]
     },
     "execution_count": 29,
     "metadata": {},
     "output_type": "execute_result"
    }
   ],
   "source": [
    "precisions.shape"
   ]
  },
  {
   "cell_type": "code",
   "execution_count": 32,
   "metadata": {},
   "outputs": [
    {
     "data": {
      "image/png": "[encoded data removed]",
      "text/plain": [
       "<Figure size 640x480 with 1 Axes>"
      ]
     },
     "metadata": {},
     "output_type": "display_data"
    }
   ],
   "source": [
    "import matplotlib.pyplot as plt\n",
    "plt.plot(recalls, marker='.', label = \"Recall\")\n",
    "plt.plot(precisions, marker='.', label = \"Precision\")\n",
    "plt.legend()\n",
    "plt.show()"
   ]
  },
  {
   "cell_type": "markdown",
   "metadata": {},
   "source": [
    "### sklearn.metrics.roc_curve\n",
    "- sklearn.metrics.roc_curve(y_true, y_score, *, pos_label=None, sample_weight=None, drop_intermediate=True)"
   ]
  },
  {
   "cell_type": "code",
   "execution_count": 33,
   "metadata": {},
   "outputs": [],
   "source": [
    "from sklearn.metrics import roc_curve"
   ]
  },
  {
   "cell_type": "code",
   "execution_count": 34,
   "metadata": {},
   "outputs": [
    {
     "name": "stdout",
     "output_type": "stream",
     "text": [
      "샘플 추출을 위한 임곗값 배열의 index :  [ 1  6 11 16 21 26 31 36 41 46 51 56 61 66]\n",
      "샘플 index로 추출한 임곗값 :  [0.95 0.81 0.65 0.6  0.55 0.47 0.4  0.27 0.18 0.13 0.12 0.11 0.1  0.08]\n",
      "샘플 임곗값별 FPR: [0.    0.008 0.025 0.059 0.102 0.178 0.212 0.314 0.466 0.542 0.678 0.754\n",
      " 0.839 0.941]\n",
      "샘플 임곗값별 TPR: [0.    0.008 0.025 0.059 0.102 0.178 0.212 0.314 0.466 0.542 0.678 0.754\n",
      " 0.839 0.941]\n"
     ]
    }
   ],
   "source": [
    "pred_proba_class1 = lr_clf.predict_proba(X_test)[:,1]\n",
    "\n",
    "fprs, tprs , thresholds = roc_curve(y_test, pred_proba_class1)\n",
    "\n",
    "thr_index = np.arange(1, thresholds.shape[0], 5)\n",
    "print('샘플 추출을 위한 임곗값 배열의 index : ', thr_index)\n",
    "print('샘플 index로 추출한 임곗값 : ', np.round(thresholds[thr_index],2))\n",
    "\n",
    "print('샘플 임곗값별 FPR:', np.round(fprs[thr_index],3))\n",
    "print('샘플 임곗값별 TPR:', np.round(fprs[thr_index],3))"
   ]
  },
  {
   "cell_type": "code",
   "execution_count": 35,
   "metadata": {},
   "outputs": [],
   "source": [
    "def roc_curve_plot(y_test, pred_proba_c1):\n",
    "    fprs, tprs, thresholds=roc_curve(y_test, pred_proba_c1)\n",
    "\n",
    "    plt.plot(fprs, tprs, label=\"ROC\")\n",
    "\n",
    "    plt.plot([0,1],[0,1], \"k--\", label = \"Random\")\n",
    "\n",
    "    start, end = plt.xlim()\n",
    "    plt.xticks(np.round(np.arange(start, end, 0,1),2))\n",
    "    plt.xlim(0,1); plt.ylim(0,1)\n",
    "    plt.xlabel('FPR(1-Sensitivity)'); plt.ylabel('TPR(Recall)')\n",
    "    plt.legend()\n",
    "    plt.show()"
   ]
  },
  {
   "cell_type": "code",
   "execution_count": 39,
   "metadata": {},
   "outputs": [
    {
     "ename": "TypeError",
     "evalue": "Cannot interpret '1' as a data type",
     "output_type": "error",
     "traceback": [
      "\u001b[1;31m---------------------------------------------------------------------------\u001b[0m",
      "\u001b[1;31mTypeError\u001b[0m                                 Traceback (most recent call last)",
      "\u001b[1;32mc:\\Users\\tjddlf132\\Documents\\GitHub\\Yeomsung\\ml\\분류평가.ipynb 셀 29\u001b[0m in \u001b[0;36m<cell line: 1>\u001b[1;34m()\u001b[0m\n\u001b[1;32m----> <a href='vscode-notebook-cell:/c%3A/Users/tjddlf132/Documents/GitHub/Yeomsung/ml/%EB%B6%84%EB%A5%98%ED%8F%89%EA%B0%80.ipynb#X44sZmlsZQ%3D%3D?line=0'>1</a>\u001b[0m roc_curve_plot(y_test, lr_clf\u001b[39m.\u001b[39;49mpredict_proba(X_test)[:,\u001b[39m1\u001b[39;49m])\n",
      "\u001b[1;32mc:\\Users\\tjddlf132\\Documents\\GitHub\\Yeomsung\\ml\\분류평가.ipynb 셀 29\u001b[0m in \u001b[0;36mroc_curve_plot\u001b[1;34m(y_test, pred_proba_c1)\u001b[0m\n\u001b[0;32m      <a href='vscode-notebook-cell:/c%3A/Users/tjddlf132/Documents/GitHub/Yeomsung/ml/%EB%B6%84%EB%A5%98%ED%8F%89%EA%B0%80.ipynb#X44sZmlsZQ%3D%3D?line=5'>6</a>\u001b[0m plt\u001b[39m.\u001b[39mplot([\u001b[39m0\u001b[39m,\u001b[39m1\u001b[39m],[\u001b[39m0\u001b[39m,\u001b[39m1\u001b[39m], \u001b[39m\"\u001b[39m\u001b[39mk--\u001b[39m\u001b[39m\"\u001b[39m, label \u001b[39m=\u001b[39m \u001b[39m\"\u001b[39m\u001b[39mRandom\u001b[39m\u001b[39m\"\u001b[39m)\n\u001b[0;32m      <a href='vscode-notebook-cell:/c%3A/Users/tjddlf132/Documents/GitHub/Yeomsung/ml/%EB%B6%84%EB%A5%98%ED%8F%89%EA%B0%80.ipynb#X44sZmlsZQ%3D%3D?line=7'>8</a>\u001b[0m start, end \u001b[39m=\u001b[39m plt\u001b[39m.\u001b[39mxlim()\n\u001b[1;32m----> <a href='vscode-notebook-cell:/c%3A/Users/tjddlf132/Documents/GitHub/Yeomsung/ml/%EB%B6%84%EB%A5%98%ED%8F%89%EA%B0%80.ipynb#X44sZmlsZQ%3D%3D?line=8'>9</a>\u001b[0m plt\u001b[39m.\u001b[39mxticks(np\u001b[39m.\u001b[39mround(np\u001b[39m.\u001b[39;49marange(start, end, \u001b[39m0\u001b[39;49m,\u001b[39m1\u001b[39;49m),\u001b[39m2\u001b[39m))\n\u001b[0;32m     <a href='vscode-notebook-cell:/c%3A/Users/tjddlf132/Documents/GitHub/Yeomsung/ml/%EB%B6%84%EB%A5%98%ED%8F%89%EA%B0%80.ipynb#X44sZmlsZQ%3D%3D?line=9'>10</a>\u001b[0m plt\u001b[39m.\u001b[39mxlim(\u001b[39m0\u001b[39m,\u001b[39m1\u001b[39m); plt\u001b[39m.\u001b[39mylim(\u001b[39m0\u001b[39m,\u001b[39m1\u001b[39m)\n\u001b[0;32m     <a href='vscode-notebook-cell:/c%3A/Users/tjddlf132/Documents/GitHub/Yeomsung/ml/%EB%B6%84%EB%A5%98%ED%8F%89%EA%B0%80.ipynb#X44sZmlsZQ%3D%3D?line=10'>11</a>\u001b[0m plt\u001b[39m.\u001b[39mxlabel(\u001b[39m'\u001b[39m\u001b[39mFPR(1-Sensitivity)\u001b[39m\u001b[39m'\u001b[39m); plt\u001b[39m.\u001b[39mylabel(\u001b[39m'\u001b[39m\u001b[39mTPR(Recall)\u001b[39m\u001b[39m'\u001b[39m)\n",
      "\u001b[1;31mTypeError\u001b[0m: Cannot interpret '1' as a data type"
     ]
    },
    {
     "data": {
      "image/png": "[encoded data removed]",
      "text/plain": [
       "<Figure size 640x480 with 1 Axes>"
      ]
     },
     "metadata": {},
     "output_type": "display_data"
    }
   ],
   "source": [
    "roc_curve_plot(y_test, lr_clf.predict_proba(X_test)[:,1])"
   ]
  }
 ],
 "metadata": {
  "kernelspec": {
   "display_name": "Python 3.10.6 64-bit",
   "language": "python",
   "name": "python3"
  },
  "language_info": {
   "codemirror_mode": {
    "name": "ipython",
    "version": 3
   },
   "file_extension": ".py",
   "mimetype": "text/x-python",
   "name": "python",
   "nbconvert_exporter": "python",
   "pygments_lexer": "ipython3",
   "version": "3.10.6"
  },
  "orig_nbformat": 4,
  "vscode": {
   "interpreter": {
    "hash": "f4d110a2421007c29e5763e456566bb3889d1406151a827559eb73ad4a82c678"
   }
  }
 },
 "nbformat": 4,
 "nbformat_minor": 2
}
