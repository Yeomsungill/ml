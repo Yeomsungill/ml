{
 "cells": [
  {
   "cell_type": "code",
   "execution_count": null,
   "id": "e6bc708b",
   "metadata": {
    "ExecuteTime": {
     "end_time": "2022-09-29T08:25:46.659920Z",
     "start_time": "2022-09-29T08:25:46.659920Z"
    }
   },
   "outputs": [],
   "source": [
    "import pandas as pd\n",
    "diabet_df = pd.read_csv(\"./Datasets/diabets.csv\")\n",
    "diabet_df.head(3)"
   ]
  },
  {
   "cell_type": "code",
   "execution_count": 2,
   "id": "1d321530",
   "metadata": {
    "ExecuteTime": {
     "end_time": "2022-09-29T11:39:26.212375Z",
     "start_time": "2022-09-29T11:39:16.281131Z"
    }
   },
   "outputs": [],
   "source": [
    "from sklearn.model_selection import KFold\n",
    "from sklearn.tree import DecisionTreeClassifier\n",
    "from sklearn.metrics import accuracy_score\n",
    "import numpy as np\n",
    "from sklearn.datasets import load_iris\n",
    "\n",
    "iris = load_iris()"
   ]
  },
  {
   "cell_type": "code",
   "execution_count": 3,
   "id": "5e1016b6",
   "metadata": {
    "ExecuteTime": {
     "end_time": "2022-09-29T11:41:39.596407Z",
     "start_time": "2022-09-29T11:41:39.584780Z"
    }
   },
   "outputs": [],
   "source": [
    "features = iris.data"
   ]
  },
  {
   "cell_type": "code",
   "execution_count": 11,
   "id": "541d1dc6",
   "metadata": {
    "ExecuteTime": {
     "end_time": "2022-09-29T11:42:51.532949Z",
     "start_time": "2022-09-29T11:42:51.495130Z"
    }
   },
   "outputs": [
    {
     "data": {
      "text/plain": [
       "array([0, 0, 0, 0, 0, 0, 0, 0, 0, 0, 0, 0, 0, 0, 0, 0, 0, 0, 0, 0, 0, 0,\n",
       "       0, 0, 0, 0, 0, 0, 0, 0, 0, 0, 0, 0, 0, 0, 0, 0, 0, 0, 0, 0, 0, 0,\n",
       "       0, 0, 0, 0, 0, 0, 1, 1, 1, 1, 1, 1, 1, 1, 1, 1, 1, 1, 1, 1, 1, 1,\n",
       "       1, 1, 1, 1, 1, 1, 1, 1, 1, 1, 1, 1, 1, 1, 1, 1, 1, 1, 1, 1, 1, 1,\n",
       "       1, 1, 1, 1, 1, 1, 1, 1, 1, 1, 1, 1, 2, 2, 2, 2, 2, 2, 2, 2, 2, 2,\n",
       "       2, 2, 2, 2, 2, 2, 2, 2, 2, 2, 2, 2, 2, 2, 2, 2, 2, 2, 2, 2, 2, 2,\n",
       "       2, 2, 2, 2, 2, 2, 2, 2, 2, 2, 2, 2, 2, 2, 2, 2, 2, 2])"
      ]
     },
     "execution_count": 11,
     "metadata": {},
     "output_type": "execute_result"
    }
   ],
   "source": [
    "label = iris.target\n",
    "label"
   ]
  },
  {
   "cell_type": "code",
   "execution_count": 13,
   "id": "83e826c3",
   "metadata": {
    "ExecuteTime": {
     "end_time": "2022-09-29T11:44:51.070763Z",
     "start_time": "2022-09-29T11:44:51.052257Z"
    }
   },
   "outputs": [],
   "source": [
    "dt_clf = DecisionTreeClassifier(random_state=156)"
   ]
  },
  {
   "cell_type": "code",
   "execution_count": 14,
   "id": "f428e46f",
   "metadata": {
    "ExecuteTime": {
     "end_time": "2022-09-29T11:56:00.443221Z",
     "start_time": "2022-09-29T11:56:00.397916Z"
    }
   },
   "outputs": [],
   "source": [
    "from sklearn.model_selection import train_test_split\n",
    "\n",
    "X_train, X_test, y_train, y_test = train_test_split(features,\n",
    "                                                   label,\n",
    "                                                   test_size=0.2,\n",
    "                                                   random_state=11)\n",
    "kfold = KFold()\n",
    "cv_accuracy=[]\n",
    "\n",
    "for i,j in kfold.split(X_train):\n",
    "    train_X , test_X = X_train[i] , X_train[j]\n",
    "    train_y , test_y = y_train[i] , y_train[j]\n",
    "    train_X , test_X = X_train[i], X_train[j]\n",
    "    train_y , test_y = y_train[i], y_train[j]\n",
    "    dt_clf.fit(train_X, train_y)\n",
    "    pred = dt_clf.predict(test_X)\n",
    "    accuracy = np.round(accuracy_score(test_y,pred), 4)\n",
    "    cv_accuracy.append(accuracy)"
   ]
  },
  {
   "cell_type": "code",
   "execution_count": 15,
   "id": "cf73246a",
   "metadata": {
    "ExecuteTime": {
     "end_time": "2022-09-29T12:09:41.370791Z",
     "start_time": "2022-09-29T12:09:41.304078Z"
    }
   },
   "outputs": [
    {
     "ename": "NameError",
     "evalue": "name 'sfk' is not defined",
     "output_type": "error",
     "traceback": [
      "\u001b[1;31m---------------------------------------------------------------------------\u001b[0m",
      "\u001b[1;31mNameError\u001b[0m                                 Traceback (most recent call last)",
      "Input \u001b[1;32mIn [15]\u001b[0m, in \u001b[0;36m<cell line: 6>\u001b[1;34m()\u001b[0m\n\u001b[0;32m      3\u001b[0m cv_accuracy \u001b[38;5;241m=\u001b[39m []\n\u001b[0;32m      4\u001b[0m n_iter \u001b[38;5;241m=\u001b[39m \u001b[38;5;241m0\u001b[39m\n\u001b[1;32m----> 6\u001b[0m \u001b[38;5;28;01mfor\u001b[39;00m train_index, test_index  \u001b[38;5;129;01min\u001b[39;00m \u001b[43msfk\u001b[49m\u001b[38;5;241m.\u001b[39msplit(features , label):\n\u001b[0;32m      7\u001b[0m \u001b[38;5;66;03m#     print(f'fsdfsdf{features[train_index]}')\u001b[39;00m\n\u001b[0;32m      9\u001b[0m     n_iter \u001b[38;5;241m+\u001b[39m\u001b[38;5;241m=\u001b[39m\u001b[38;5;241m1\u001b[39m\n\u001b[0;32m     10\u001b[0m     X_train , X_test \u001b[38;5;241m=\u001b[39m features[train_index] , features[test_index]\n",
      "\u001b[1;31mNameError\u001b[0m: name 'sfk' is not defined"
     ]
    }
   ],
   "source": [
    "from sklearn.model_selection import train_test_split\n",
    "kfold = KFold(n_splits=3)\n",
    "cv_accuracy = []\n",
    "n_iter = 0\n",
    "\n",
    "for train_index, test_index  in sfk.split(features , label):\n",
    "#     print(f'fsdfsdf{features[train_index]}')\n",
    "\n",
    "    n_iter +=1\n",
    "    X_train , X_test = features[train_index] , features[test_index]\n",
    "    y_train , y_test = label[train_index] , label[test_index]\n",
    "    \n",
    "    dt_clf.fit(X_train, y_train)\n",
    "    pred = dt_clf.predict(X_test)\n",
    "    accuracy = np.round(accuracy_score(y_test,pred), 4)\n",
    "    print(f'\\n{n_iter}번째 정확도 {accuracy}  , 학습데이터 크기 {X_train.shape[0]}, 검증데이터 크기 {X_test.shape[0]}')\n",
    "    print(f'\\n {n_iter}번째 검증데이터 인덱스 {test_index} ')\n",
    "    cv_accuracy.append(accuracy)\n",
    "    "
   ]
  }
 ],
 "metadata": {
  "kernelspec": {
   "display_name": "Python 3 (ipykernel)",
   "language": "python",
   "name": "python3"
  },
  "language_info": {
   "codemirror_mode": {
    "name": "ipython",
    "version": 3
   },
   "file_extension": ".py",
   "mimetype": "text/x-python",
   "name": "python",
   "nbconvert_exporter": "python",
   "pygments_lexer": "ipython3",
   "version": "3.10.6"
  },
  "toc": {
   "base_numbering": 1,
   "nav_menu": {},
   "number_sections": true,
   "sideBar": true,
   "skip_h1_title": false,
   "title_cell": "Table of Contents",
   "title_sidebar": "Contents",
   "toc_cell": false,
   "toc_position": {},
   "toc_section_display": true,
   "toc_window_display": false
  },
  "varInspector": {
   "cols": {
    "lenName": 16,
    "lenType": 16,
    "lenVar": 40
   },
   "kernels_config": {
    "python": {
     "delete_cmd_postfix": "",
     "delete_cmd_prefix": "del ",
     "library": "var_list.py",
     "varRefreshCmd": "print(var_dic_list())"
    },
    "r": {
     "delete_cmd_postfix": ") ",
     "delete_cmd_prefix": "rm(",
     "library": "var_list.r",
     "varRefreshCmd": "cat(var_dic_list()) "
    }
   },
   "types_to_exclude": [
    "module",
    "function",
    "builtin_function_or_method",
    "instance",
    "_Feature"
   ],
   "window_display": false
  }
 },
 "nbformat": 4,
 "nbformat_minor": 5
}
